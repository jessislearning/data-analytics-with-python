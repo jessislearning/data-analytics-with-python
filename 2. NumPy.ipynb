{
  "cells": [
    {
      "cell_type": "markdown",
      "metadata": {
        "id": "L70fUgQxtakg"
      },
      "source": [
        "![rmotr](https://user-images.githubusercontent.com/7065401/52071918-bda15380-2562-11e9-828c-7f95297e4a82.png)\n",
        "<hr style=\"margin-bottom: 40px;\">\n",
        "\n",
        "<img src=\"https://user-images.githubusercontent.com/7065401/39118381-910eb0c2-46e9-11e8-81f1-a5b897401c23.jpeg\"\n",
        "    style=\"width:300px; float: right; margin: 0 40px 40px 40px;\"></img>\n",
        "\n",
        "# Numpy: Numeric computing library\n",
        "\n",
        "NumPy (Numerical Python) is one of the core packages for numerical computing in Python. Pandas, Matplotlib, Statmodels and many other Scientific libraries rely on NumPy.\n",
        "\n",
        "NumPy major contributions are:\n",
        "\n",
        "* Efficient numeric computation with C primitives\n",
        "* Efficient collections with vectorized operations\n",
        "* An integrated and natural Linear Algebra API\n",
        "* A C API for connecting NumPy with libraries written in C, C++, or FORTRAN.\n",
        "\n",
        "Let's develop on efficiency. In Python, **everything is an object**, which means that even simple ints are also objects, with all the required machinery to make object work. We call them \"Boxed Ints\". In contrast, NumPy uses primitive numeric types (floats, ints) which makes storing and computation efficient."
      ]
    },
    {
      "cell_type": "markdown",
      "metadata": {
        "id": "EQ2P2EUPtakh"
      },
      "source": [
        "<img src=\"https://docs.google.com/drawings/d/e/2PACX-1vTkDtKYMUVdpfVb3TTpr_8rrVtpal2dOknUUEOu85wJ1RitzHHf5nsJqz1O0SnTt8BwgJjxXMYXyIqs/pub?w=726&h=396\" />\n"
      ]
    },
    {
      "cell_type": "markdown",
      "metadata": {
        "id": "qD2dMVTetakh"
      },
      "source": [
        "![purple-divider](https://user-images.githubusercontent.com/7065401/52071927-c1cd7100-2562-11e9-908a-dde91ba14e59.png)\n",
        "\n",
        "## Hands on!"
      ]
    },
    {
      "cell_type": "code",
      "execution_count": 1,
      "metadata": {
        "id": "8v2ZXVXhtaki"
      },
      "outputs": [],
      "source": [
        "import sys\n",
        "import numpy as np"
      ]
    },
    {
      "cell_type": "markdown",
      "metadata": {
        "id": "uMCzC_60taki"
      },
      "source": [
        "## Basic Numpy Arrays"
      ]
    },
    {
      "cell_type": "code",
      "execution_count": 2,
      "metadata": {
        "colab": {
          "base_uri": "https://localhost:8080/"
        },
        "id": "nYOFwbIVtaki",
        "outputId": "d23a5a53-ece2-4d2e-c487-d46de6b1d570"
      },
      "outputs": [
        {
          "output_type": "execute_result",
          "data": {
            "text/plain": [
              "array([1, 2, 3, 4])"
            ]
          },
          "metadata": {},
          "execution_count": 2
        }
      ],
      "source": [
        "np.array([1, 2, 3, 4])"
      ]
    },
    {
      "cell_type": "code",
      "execution_count": 3,
      "metadata": {
        "id": "lZRS3zzxtakj"
      },
      "outputs": [],
      "source": [
        "a = np.array([1, 2, 3, 4])"
      ]
    },
    {
      "cell_type": "code",
      "execution_count": 4,
      "metadata": {
        "id": "UyG2H3R1takj"
      },
      "outputs": [],
      "source": [
        "b = np.array([0, .5, 1, 1.5, 2])"
      ]
    },
    {
      "cell_type": "code",
      "execution_count": 5,
      "metadata": {
        "colab": {
          "base_uri": "https://localhost:8080/"
        },
        "id": "BbkJGiZftakj",
        "outputId": "b831e6bd-0697-4f99-a127-80fb7aa58064"
      },
      "outputs": [
        {
          "output_type": "execute_result",
          "data": {
            "text/plain": [
              "(1, 2)"
            ]
          },
          "metadata": {},
          "execution_count": 5
        }
      ],
      "source": [
        "a[0], a[1]"
      ]
    },
    {
      "cell_type": "code",
      "execution_count": 6,
      "metadata": {
        "colab": {
          "base_uri": "https://localhost:8080/"
        },
        "id": "bXq64nhJtakj",
        "outputId": "b796505d-cb0d-4e13-ae72-cfd79a779a2c"
      },
      "outputs": [
        {
          "output_type": "execute_result",
          "data": {
            "text/plain": [
              "array([1, 2, 3, 4])"
            ]
          },
          "metadata": {},
          "execution_count": 6
        }
      ],
      "source": [
        "a[0:]"
      ]
    },
    {
      "cell_type": "code",
      "execution_count": 7,
      "metadata": {
        "colab": {
          "base_uri": "https://localhost:8080/"
        },
        "id": "F7-3HWFotakj",
        "outputId": "066b0e68-5947-407d-9559-2583cccba17e"
      },
      "outputs": [
        {
          "output_type": "execute_result",
          "data": {
            "text/plain": [
              "array([2, 3])"
            ]
          },
          "metadata": {},
          "execution_count": 7
        }
      ],
      "source": [
        "a[1:3]"
      ]
    },
    {
      "cell_type": "code",
      "execution_count": 8,
      "metadata": {
        "scrolled": true,
        "colab": {
          "base_uri": "https://localhost:8080/"
        },
        "id": "t418wzYutakj",
        "outputId": "3194353d-e084-405e-b731-d72a0cce9fec"
      },
      "outputs": [
        {
          "output_type": "execute_result",
          "data": {
            "text/plain": [
              "array([2, 3])"
            ]
          },
          "metadata": {},
          "execution_count": 8
        }
      ],
      "source": [
        "a[1:-1]"
      ]
    },
    {
      "cell_type": "code",
      "execution_count": 14,
      "metadata": {
        "colab": {
          "base_uri": "https://localhost:8080/"
        },
        "id": "QjRByX9Ntakj",
        "outputId": "e3f2e76b-a81a-40f2-d520-f144cb7041c7"
      },
      "outputs": [
        {
          "output_type": "execute_result",
          "data": {
            "text/plain": [
              "array([1, 3])"
            ]
          },
          "metadata": {},
          "execution_count": 14
        }
      ],
      "source": [
        "a[::2]"
      ]
    },
    {
      "cell_type": "code",
      "execution_count": 15,
      "metadata": {
        "colab": {
          "base_uri": "https://localhost:8080/"
        },
        "id": "yd0uytYHtakj",
        "outputId": "e59573d6-f4ce-4ede-c8ef-07b3d6490df2"
      },
      "outputs": [
        {
          "output_type": "execute_result",
          "data": {
            "text/plain": [
              "array([0. , 0.5, 1. , 1.5, 2. ])"
            ]
          },
          "metadata": {},
          "execution_count": 15
        }
      ],
      "source": [
        "b"
      ]
    },
    {
      "cell_type": "code",
      "execution_count": null,
      "metadata": {
        "scrolled": true,
        "id": "P6VjgGkItakj",
        "outputId": "98473128-60c6-426f-9404-cd98b537ff95"
      },
      "outputs": [
        {
          "data": {
            "text/plain": [
              "(0.0, 1.0, 2.0)"
            ]
          },
          "execution_count": 11,
          "metadata": {},
          "output_type": "execute_result"
        }
      ],
      "source": [
        "b[0], b[2], b[-1]"
      ]
    },
    {
      "cell_type": "code",
      "execution_count": 16,
      "metadata": {
        "colab": {
          "base_uri": "https://localhost:8080/"
        },
        "id": "nfXDC8zFtakk",
        "outputId": "c9bf1479-0876-47c0-93c5-a3e7188ba514"
      },
      "outputs": [
        {
          "output_type": "execute_result",
          "data": {
            "text/plain": [
              "array([0., 1., 2.])"
            ]
          },
          "metadata": {},
          "execution_count": 16
        }
      ],
      "source": [
        "b[[0, 2, -1]]"
      ]
    },
    {
      "cell_type": "markdown",
      "metadata": {
        "id": "bsPRz-Iztakk"
      },
      "source": [
        "![green-divider](https://user-images.githubusercontent.com/7065401/52071924-c003ad80-2562-11e9-8297-1c6595f8a7ff.png)\n",
        "\n",
        "## Array Types"
      ]
    },
    {
      "cell_type": "code",
      "execution_count": 17,
      "metadata": {
        "colab": {
          "base_uri": "https://localhost:8080/"
        },
        "id": "bJZVVgJ-takk",
        "outputId": "d977b8c1-22a8-4bc7-9c40-fabc746b9fd0"
      },
      "outputs": [
        {
          "output_type": "execute_result",
          "data": {
            "text/plain": [
              "array([1, 2, 3, 4])"
            ]
          },
          "metadata": {},
          "execution_count": 17
        }
      ],
      "source": [
        "a"
      ]
    },
    {
      "cell_type": "code",
      "execution_count": 18,
      "metadata": {
        "colab": {
          "base_uri": "https://localhost:8080/"
        },
        "id": "DvZXFPuTtakk",
        "outputId": "1fd03e9a-b8b8-4266-8848-e2327212c3af"
      },
      "outputs": [
        {
          "output_type": "execute_result",
          "data": {
            "text/plain": [
              "dtype('int64')"
            ]
          },
          "metadata": {},
          "execution_count": 18
        }
      ],
      "source": [
        "a.dtype"
      ]
    },
    {
      "cell_type": "code",
      "execution_count": 19,
      "metadata": {
        "colab": {
          "base_uri": "https://localhost:8080/"
        },
        "id": "drJXuugttakk",
        "outputId": "1a2dc22b-0cbd-44bb-8574-c51386b6598d"
      },
      "outputs": [
        {
          "output_type": "execute_result",
          "data": {
            "text/plain": [
              "array([0. , 0.5, 1. , 1.5, 2. ])"
            ]
          },
          "metadata": {},
          "execution_count": 19
        }
      ],
      "source": [
        "b"
      ]
    },
    {
      "cell_type": "code",
      "execution_count": 20,
      "metadata": {
        "colab": {
          "base_uri": "https://localhost:8080/"
        },
        "id": "1YaXjCI3takk",
        "outputId": "70602179-7993-4c26-d622-153cffe4fd23"
      },
      "outputs": [
        {
          "output_type": "execute_result",
          "data": {
            "text/plain": [
              "dtype('float64')"
            ]
          },
          "metadata": {},
          "execution_count": 20
        }
      ],
      "source": [
        "b.dtype"
      ]
    },
    {
      "cell_type": "code",
      "execution_count": 22,
      "metadata": {
        "scrolled": true,
        "colab": {
          "base_uri": "https://localhost:8080/"
        },
        "id": "UxdpV1vOtakk",
        "outputId": "60257756-5f2e-4f21-8d3b-481cf20c9ed7"
      },
      "outputs": [
        {
          "output_type": "execute_result",
          "data": {
            "text/plain": [
              "array([1., 2., 3., 4.])"
            ]
          },
          "metadata": {},
          "execution_count": 22
        }
      ],
      "source": [
        "np.array([1, 2, 3, 4], dtype=float)"
      ]
    },
    {
      "cell_type": "code",
      "execution_count": 24,
      "metadata": {
        "scrolled": true,
        "colab": {
          "base_uri": "https://localhost:8080/"
        },
        "id": "IVXPzHYktakk",
        "outputId": "4c911ed8-89d5-48fd-fcbd-4cfb83aed23f"
      },
      "outputs": [
        {
          "output_type": "execute_result",
          "data": {
            "text/plain": [
              "array([1, 2, 3, 4], dtype=int8)"
            ]
          },
          "metadata": {},
          "execution_count": 24
        }
      ],
      "source": [
        "np.array([1, 2, 3, 4], dtype=np.int8)"
      ]
    },
    {
      "cell_type": "code",
      "execution_count": 26,
      "metadata": {
        "id": "S6tkpZbPtakk"
      },
      "outputs": [],
      "source": [
        "c = np.array(['a','b','c'])"
      ]
    },
    {
      "cell_type": "code",
      "execution_count": 27,
      "metadata": {
        "colab": {
          "base_uri": "https://localhost:8080/"
        },
        "id": "TF0sV0Nptakk",
        "outputId": "39fcb7bc-0191-4e7e-9955-02f63066e90e"
      },
      "outputs": [
        {
          "output_type": "execute_result",
          "data": {
            "text/plain": [
              "dtype('<U1')"
            ]
          },
          "metadata": {},
          "execution_count": 27
        }
      ],
      "source": [
        "c.dtype"
      ]
    },
    {
      "cell_type": "code",
      "execution_count": 28,
      "metadata": {
        "id": "QMmLlEYstakk"
      },
      "outputs": [],
      "source": [
        "d = np.array([{'a': 1}, sys])"
      ]
    },
    {
      "cell_type": "code",
      "execution_count": 29,
      "metadata": {
        "colab": {
          "base_uri": "https://localhost:8080/"
        },
        "id": "XV3EAd6-takk",
        "outputId": "3ecb7274-2d5d-4ca7-901e-ebb1661cef61"
      },
      "outputs": [
        {
          "output_type": "execute_result",
          "data": {
            "text/plain": [
              "dtype('O')"
            ]
          },
          "metadata": {},
          "execution_count": 29
        }
      ],
      "source": [
        "d.dtype"
      ]
    },
    {
      "cell_type": "markdown",
      "metadata": {
        "id": "2z6MXtvttakk"
      },
      "source": [
        "![green-divider](https://user-images.githubusercontent.com/7065401/52071924-c003ad80-2562-11e9-8297-1c6595f8a7ff.png)\n",
        "\n",
        "## Dimensions and shapes"
      ]
    },
    {
      "cell_type": "code",
      "execution_count": 30,
      "metadata": {
        "id": "_zbxq0gotakk"
      },
      "outputs": [],
      "source": [
        "A = np.array([\n",
        "    [1, 2, 3],\n",
        "    [4, 5, 6]\n",
        "])"
      ]
    },
    {
      "cell_type": "code",
      "execution_count": 31,
      "metadata": {
        "colab": {
          "base_uri": "https://localhost:8080/"
        },
        "id": "xOCi3gwptakk",
        "outputId": "3ef02b0f-a32f-492f-bd9d-8163a550d593"
      },
      "outputs": [
        {
          "output_type": "execute_result",
          "data": {
            "text/plain": [
              "(2, 3)"
            ]
          },
          "metadata": {},
          "execution_count": 31
        }
      ],
      "source": [
        "A.shape"
      ]
    },
    {
      "cell_type": "code",
      "execution_count": 32,
      "metadata": {
        "colab": {
          "base_uri": "https://localhost:8080/"
        },
        "id": "-ZA763q2takk",
        "outputId": "5dfa3dfb-176f-4fdc-e039-a16207bcc9b9"
      },
      "outputs": [
        {
          "output_type": "execute_result",
          "data": {
            "text/plain": [
              "2"
            ]
          },
          "metadata": {},
          "execution_count": 32
        }
      ],
      "source": [
        "A.ndim"
      ]
    },
    {
      "cell_type": "code",
      "execution_count": 33,
      "metadata": {
        "colab": {
          "base_uri": "https://localhost:8080/"
        },
        "id": "a7vjsdectakk",
        "outputId": "a71780d2-3f76-4d80-db32-560a788e6968"
      },
      "outputs": [
        {
          "output_type": "execute_result",
          "data": {
            "text/plain": [
              "6"
            ]
          },
          "metadata": {},
          "execution_count": 33
        }
      ],
      "source": [
        "A.size"
      ]
    },
    {
      "cell_type": "code",
      "execution_count": 34,
      "metadata": {
        "id": "_wNLyouvtakk"
      },
      "outputs": [],
      "source": [
        "B = np.array([\n",
        "    [\n",
        "        [12, 11, 10],\n",
        "        [9, 8, 7],\n",
        "    ],\n",
        "    [\n",
        "        [6, 5, 4],\n",
        "        [3, 2, 1]\n",
        "    ]\n",
        "])"
      ]
    },
    {
      "cell_type": "code",
      "execution_count": 35,
      "metadata": {
        "colab": {
          "base_uri": "https://localhost:8080/"
        },
        "id": "UWZTmhl1takk",
        "outputId": "f90df883-8648-4463-b3d9-1a688b8696ef"
      },
      "outputs": [
        {
          "output_type": "execute_result",
          "data": {
            "text/plain": [
              "array([[[12, 11, 10],\n",
              "        [ 9,  8,  7]],\n",
              "\n",
              "       [[ 6,  5,  4],\n",
              "        [ 3,  2,  1]]])"
            ]
          },
          "metadata": {},
          "execution_count": 35
        }
      ],
      "source": [
        "B"
      ]
    },
    {
      "cell_type": "code",
      "execution_count": 36,
      "metadata": {
        "colab": {
          "base_uri": "https://localhost:8080/"
        },
        "id": "p47xANfKtakk",
        "outputId": "d3f19acd-eada-497b-9ea3-9701733be023"
      },
      "outputs": [
        {
          "output_type": "execute_result",
          "data": {
            "text/plain": [
              "(2, 2, 3)"
            ]
          },
          "metadata": {},
          "execution_count": 36
        }
      ],
      "source": [
        "B.shape"
      ]
    },
    {
      "cell_type": "code",
      "execution_count": 37,
      "metadata": {
        "colab": {
          "base_uri": "https://localhost:8080/"
        },
        "id": "_wanUiG_takk",
        "outputId": "1e6993ce-5f6c-40ae-ca2c-099c154bd62f"
      },
      "outputs": [
        {
          "output_type": "execute_result",
          "data": {
            "text/plain": [
              "3"
            ]
          },
          "metadata": {},
          "execution_count": 37
        }
      ],
      "source": [
        "B.ndim"
      ]
    },
    {
      "cell_type": "code",
      "execution_count": 38,
      "metadata": {
        "colab": {
          "base_uri": "https://localhost:8080/"
        },
        "id": "iexYoDK4takk",
        "outputId": "fc54ec49-9ef8-45ee-c07c-1a236ac2fd8a"
      },
      "outputs": [
        {
          "output_type": "execute_result",
          "data": {
            "text/plain": [
              "12"
            ]
          },
          "metadata": {},
          "execution_count": 38
        }
      ],
      "source": [
        "B.size"
      ]
    },
    {
      "cell_type": "markdown",
      "metadata": {
        "id": "s6pu1Ythtakl"
      },
      "source": [
        "If the shape isn't consistent, it'll just fall back to regular Python objects:"
      ]
    },
    {
      "cell_type": "code",
      "execution_count": 39,
      "metadata": {
        "colab": {
          "base_uri": "https://localhost:8080/",
          "height": 251
        },
        "id": "-_xV3-NJtakl",
        "outputId": "6b20d5a1-2889-41ad-e1aa-9e9e56040c20"
      },
      "outputs": [
        {
          "output_type": "error",
          "ename": "ValueError",
          "evalue": "setting an array element with a sequence. The requested array has an inhomogeneous shape after 1 dimensions. The detected shape was (2,) + inhomogeneous part.",
          "traceback": [
            "\u001b[0;31m---------------------------------------------------------------------------\u001b[0m",
            "\u001b[0;31mValueError\u001b[0m                                Traceback (most recent call last)",
            "\u001b[0;32m<ipython-input-39-39b57e6bbad9>\u001b[0m in \u001b[0;36m<cell line: 1>\u001b[0;34m()\u001b[0m\n\u001b[0;32m----> 1\u001b[0;31m C = np.array([\n\u001b[0m\u001b[1;32m      2\u001b[0m     [\n\u001b[1;32m      3\u001b[0m         \u001b[0;34m[\u001b[0m\u001b[0;36m12\u001b[0m\u001b[0;34m,\u001b[0m \u001b[0;36m11\u001b[0m\u001b[0;34m,\u001b[0m \u001b[0;36m10\u001b[0m\u001b[0;34m]\u001b[0m\u001b[0;34m,\u001b[0m\u001b[0;34m\u001b[0m\u001b[0;34m\u001b[0m\u001b[0m\n\u001b[1;32m      4\u001b[0m         \u001b[0;34m[\u001b[0m\u001b[0;36m9\u001b[0m\u001b[0;34m,\u001b[0m \u001b[0;36m8\u001b[0m\u001b[0;34m,\u001b[0m \u001b[0;36m7\u001b[0m\u001b[0;34m]\u001b[0m\u001b[0;34m,\u001b[0m\u001b[0;34m\u001b[0m\u001b[0;34m\u001b[0m\u001b[0m\n\u001b[1;32m      5\u001b[0m     ],\n",
            "\u001b[0;31mValueError\u001b[0m: setting an array element with a sequence. The requested array has an inhomogeneous shape after 1 dimensions. The detected shape was (2,) + inhomogeneous part."
          ]
        }
      ],
      "source": [
        "C = np.array([\n",
        "    [\n",
        "        [12, 11, 10],\n",
        "        [9, 8, 7],\n",
        "    ],\n",
        "    [\n",
        "        [6, 5, 4]\n",
        "    ]\n",
        "])"
      ]
    },
    {
      "cell_type": "code",
      "execution_count": 40,
      "metadata": {
        "colab": {
          "base_uri": "https://localhost:8080/",
          "height": 144
        },
        "id": "eNdZ2RdCtakr",
        "outputId": "eec97414-4dab-4548-c3f4-07d3acdcdc37"
      },
      "outputs": [
        {
          "output_type": "error",
          "ename": "NameError",
          "evalue": "name 'C' is not defined",
          "traceback": [
            "\u001b[0;31m---------------------------------------------------------------------------\u001b[0m",
            "\u001b[0;31mNameError\u001b[0m                                 Traceback (most recent call last)",
            "\u001b[0;32m<ipython-input-40-9f0b84e00210>\u001b[0m in \u001b[0;36m<cell line: 1>\u001b[0;34m()\u001b[0m\n\u001b[0;32m----> 1\u001b[0;31m \u001b[0mC\u001b[0m\u001b[0;34m.\u001b[0m\u001b[0mdtype\u001b[0m\u001b[0;34m\u001b[0m\u001b[0;34m\u001b[0m\u001b[0m\n\u001b[0m",
            "\u001b[0;31mNameError\u001b[0m: name 'C' is not defined"
          ]
        }
      ],
      "source": [
        "C.dtype"
      ]
    },
    {
      "cell_type": "code",
      "execution_count": 41,
      "metadata": {
        "colab": {
          "base_uri": "https://localhost:8080/",
          "height": 144
        },
        "id": "1QaHv-kCtakr",
        "outputId": "dba9a406-fab7-4871-9d7f-36025209ac09"
      },
      "outputs": [
        {
          "output_type": "error",
          "ename": "NameError",
          "evalue": "name 'C' is not defined",
          "traceback": [
            "\u001b[0;31m---------------------------------------------------------------------------\u001b[0m",
            "\u001b[0;31mNameError\u001b[0m                                 Traceback (most recent call last)",
            "\u001b[0;32m<ipython-input-41-5305eb19dcc0>\u001b[0m in \u001b[0;36m<cell line: 1>\u001b[0;34m()\u001b[0m\n\u001b[0;32m----> 1\u001b[0;31m \u001b[0mC\u001b[0m\u001b[0;34m.\u001b[0m\u001b[0mshape\u001b[0m\u001b[0;34m\u001b[0m\u001b[0;34m\u001b[0m\u001b[0m\n\u001b[0m",
            "\u001b[0;31mNameError\u001b[0m: name 'C' is not defined"
          ]
        }
      ],
      "source": [
        "C.shape"
      ]
    },
    {
      "cell_type": "code",
      "execution_count": null,
      "metadata": {
        "id": "JgSAt-XOtakr",
        "outputId": "b5dad519-bc8f-43e0-dab0-e1d4122303c7"
      },
      "outputs": [
        {
          "data": {
            "text/plain": [
              "2"
            ]
          },
          "execution_count": 35,
          "metadata": {},
          "output_type": "execute_result"
        }
      ],
      "source": [
        "C.size"
      ]
    },
    {
      "cell_type": "code",
      "execution_count": null,
      "metadata": {
        "id": "zbq_RVtytakr"
      },
      "outputs": [],
      "source": [
        "type(C[0])"
      ]
    },
    {
      "cell_type": "markdown",
      "metadata": {
        "id": "FyJT-6Y7takr"
      },
      "source": [
        "![green-divider](https://user-images.githubusercontent.com/7065401/52071924-c003ad80-2562-11e9-8297-1c6595f8a7ff.png)\n",
        "\n",
        "## Indexing and Slicing of Matrices"
      ]
    },
    {
      "cell_type": "code",
      "execution_count": 42,
      "metadata": {
        "id": "imdBOJE4takr"
      },
      "outputs": [],
      "source": [
        "# Square matrix\n",
        "A = np.array([\n",
        "#.   0. 1. 2\n",
        "    [1, 2, 3], # 0\n",
        "    [4, 5, 6], # 1\n",
        "    [7, 8, 9]  # 2\n",
        "])"
      ]
    },
    {
      "cell_type": "code",
      "execution_count": 43,
      "metadata": {
        "colab": {
          "base_uri": "https://localhost:8080/"
        },
        "id": "v-sOYjTHtakr",
        "outputId": "9e9b8c85-e167-4b6f-b910-48229c3a5332"
      },
      "outputs": [
        {
          "output_type": "execute_result",
          "data": {
            "text/plain": [
              "array([4, 5, 6])"
            ]
          },
          "metadata": {},
          "execution_count": 43
        }
      ],
      "source": [
        "A[1]"
      ]
    },
    {
      "cell_type": "code",
      "execution_count": 44,
      "metadata": {
        "colab": {
          "base_uri": "https://localhost:8080/"
        },
        "id": "vVzYCqPQtakr",
        "outputId": "848a587f-4e09-4eb4-98f8-c2062cfb349c"
      },
      "outputs": [
        {
          "output_type": "execute_result",
          "data": {
            "text/plain": [
              "4"
            ]
          },
          "metadata": {},
          "execution_count": 44
        }
      ],
      "source": [
        "A[1][0]"
      ]
    },
    {
      "cell_type": "code",
      "execution_count": null,
      "metadata": {
        "id": "YEenMDyQtakr"
      },
      "outputs": [],
      "source": [
        "# A[d1, d2, d3, d4]"
      ]
    },
    {
      "cell_type": "code",
      "execution_count": 45,
      "metadata": {
        "colab": {
          "base_uri": "https://localhost:8080/"
        },
        "id": "TtTt0Hrktakr",
        "outputId": "9b61340c-78ec-400c-9e62-30e5a1485c96"
      },
      "outputs": [
        {
          "output_type": "execute_result",
          "data": {
            "text/plain": [
              "4"
            ]
          },
          "metadata": {},
          "execution_count": 45
        }
      ],
      "source": [
        "A[1, 0]"
      ]
    },
    {
      "cell_type": "code",
      "execution_count": 46,
      "metadata": {
        "scrolled": true,
        "colab": {
          "base_uri": "https://localhost:8080/"
        },
        "id": "VsASpIPNtakr",
        "outputId": "6b601cc6-ddfc-4bac-bc36-2123997ed085"
      },
      "outputs": [
        {
          "output_type": "execute_result",
          "data": {
            "text/plain": [
              "array([[1, 2, 3],\n",
              "       [4, 5, 6]])"
            ]
          },
          "metadata": {},
          "execution_count": 46
        }
      ],
      "source": [
        "A[0:2]"
      ]
    },
    {
      "cell_type": "code",
      "execution_count": 47,
      "metadata": {
        "colab": {
          "base_uri": "https://localhost:8080/"
        },
        "id": "ge7DWXB5takr",
        "outputId": "6a7b20f6-2411-4dd4-fc46-5e38f22ef851"
      },
      "outputs": [
        {
          "output_type": "execute_result",
          "data": {
            "text/plain": [
              "array([[1, 2],\n",
              "       [4, 5],\n",
              "       [7, 8]])"
            ]
          },
          "metadata": {},
          "execution_count": 47
        }
      ],
      "source": [
        "A[:, :2]"
      ]
    },
    {
      "cell_type": "code",
      "execution_count": null,
      "metadata": {
        "id": "xd1Yn9ymtakr",
        "outputId": "ac5049d1-f365-4661-b8e8-2bbefd659c3f"
      },
      "outputs": [
        {
          "data": {
            "text/plain": [
              "array([[1, 2],\n",
              "       [4, 5]])"
            ]
          },
          "execution_count": 42,
          "metadata": {},
          "output_type": "execute_result"
        }
      ],
      "source": [
        "A[:2, :2]"
      ]
    },
    {
      "cell_type": "code",
      "execution_count": 48,
      "metadata": {
        "colab": {
          "base_uri": "https://localhost:8080/"
        },
        "id": "DDWdTIDdtakr",
        "outputId": "54c31678-399c-4eb2-f793-62484dbe6550"
      },
      "outputs": [
        {
          "output_type": "execute_result",
          "data": {
            "text/plain": [
              "array([[3],\n",
              "       [6]])"
            ]
          },
          "metadata": {},
          "execution_count": 48
        }
      ],
      "source": [
        "A[:2, 2:]"
      ]
    },
    {
      "cell_type": "code",
      "execution_count": 49,
      "metadata": {
        "colab": {
          "base_uri": "https://localhost:8080/"
        },
        "id": "t0VlMwa8takr",
        "outputId": "a0a151fa-4ad4-401d-d154-d3e9a5dc77ff"
      },
      "outputs": [
        {
          "output_type": "execute_result",
          "data": {
            "text/plain": [
              "array([[1, 2, 3],\n",
              "       [4, 5, 6],\n",
              "       [7, 8, 9]])"
            ]
          },
          "metadata": {},
          "execution_count": 49
        }
      ],
      "source": [
        "A"
      ]
    },
    {
      "cell_type": "code",
      "execution_count": 50,
      "metadata": {
        "id": "lUu_HKhMtakr"
      },
      "outputs": [],
      "source": [
        "A[1] = np.array([10, 10, 10])"
      ]
    },
    {
      "cell_type": "code",
      "execution_count": 51,
      "metadata": {
        "colab": {
          "base_uri": "https://localhost:8080/"
        },
        "id": "VK5gT4lItakr",
        "outputId": "0369e02a-731b-4e5c-b1f4-e4fb604b79ea"
      },
      "outputs": [
        {
          "output_type": "execute_result",
          "data": {
            "text/plain": [
              "array([[ 1,  2,  3],\n",
              "       [10, 10, 10],\n",
              "       [ 7,  8,  9]])"
            ]
          },
          "metadata": {},
          "execution_count": 51
        }
      ],
      "source": [
        "A"
      ]
    },
    {
      "cell_type": "code",
      "execution_count": 52,
      "metadata": {
        "id": "0-3iF_04taks"
      },
      "outputs": [],
      "source": [
        "A[2] = 99"
      ]
    },
    {
      "cell_type": "code",
      "execution_count": null,
      "metadata": {
        "id": "wtav9XTXtaks",
        "outputId": "f61c226e-44a8-4451-fddb-b0b09bec72e8"
      },
      "outputs": [
        {
          "data": {
            "text/plain": [
              "array([[ 1,  2,  3],\n",
              "       [10, 10, 10],\n",
              "       [99, 99, 99]])"
            ]
          },
          "execution_count": 48,
          "metadata": {},
          "output_type": "execute_result"
        }
      ],
      "source": [
        "A"
      ]
    },
    {
      "cell_type": "markdown",
      "metadata": {
        "id": "5QDcIke0taks"
      },
      "source": [
        "![green-divider](https://user-images.githubusercontent.com/7065401/52071924-c003ad80-2562-11e9-8297-1c6595f8a7ff.png)\n",
        "\n",
        "## Summary statistics"
      ]
    },
    {
      "cell_type": "code",
      "execution_count": null,
      "metadata": {
        "id": "RN0A3qKStaks"
      },
      "outputs": [],
      "source": [
        "a = np.array([1, 2, 3, 4])"
      ]
    },
    {
      "cell_type": "code",
      "execution_count": null,
      "metadata": {
        "id": "-nmHQO60taks",
        "outputId": "2d1026fa-5947-4191-e0f9-5fe001fc9706"
      },
      "outputs": [
        {
          "data": {
            "text/plain": [
              "10"
            ]
          },
          "execution_count": 50,
          "metadata": {},
          "output_type": "execute_result"
        }
      ],
      "source": [
        "a.sum()"
      ]
    },
    {
      "cell_type": "code",
      "execution_count": null,
      "metadata": {
        "id": "xWI_TYEKtaks",
        "outputId": "878bdf0d-a3f8-415d-eb67-e0d2e0006498"
      },
      "outputs": [
        {
          "data": {
            "text/plain": [
              "2.5"
            ]
          },
          "execution_count": 51,
          "metadata": {},
          "output_type": "execute_result"
        }
      ],
      "source": [
        "a.mean()"
      ]
    },
    {
      "cell_type": "code",
      "execution_count": null,
      "metadata": {
        "id": "GPhS3wxctaks",
        "outputId": "2e9a2d57-6b2b-425b-a550-e0f8d0c37b41"
      },
      "outputs": [
        {
          "data": {
            "text/plain": [
              "1.118033988749895"
            ]
          },
          "execution_count": 52,
          "metadata": {},
          "output_type": "execute_result"
        }
      ],
      "source": [
        "a.std()"
      ]
    },
    {
      "cell_type": "code",
      "execution_count": null,
      "metadata": {
        "id": "XLdM-pQXtaks",
        "outputId": "98c6ac22-ed81-4df2-87ef-05705c9a0af7"
      },
      "outputs": [
        {
          "data": {
            "text/plain": [
              "1.25"
            ]
          },
          "execution_count": 53,
          "metadata": {},
          "output_type": "execute_result"
        }
      ],
      "source": [
        "a.var()"
      ]
    },
    {
      "cell_type": "code",
      "execution_count": null,
      "metadata": {
        "id": "fOkisRIbtaks"
      },
      "outputs": [],
      "source": [
        "A = np.array([\n",
        "    [1, 2, 3],\n",
        "    [4, 5, 6],\n",
        "    [7, 8, 9]\n",
        "])"
      ]
    },
    {
      "cell_type": "code",
      "execution_count": null,
      "metadata": {
        "id": "N6cWHjsktaks",
        "outputId": "efcd5dbd-bf17-4e55-ffb7-2d310c6ef965"
      },
      "outputs": [
        {
          "data": {
            "text/plain": [
              "45"
            ]
          },
          "execution_count": 55,
          "metadata": {},
          "output_type": "execute_result"
        }
      ],
      "source": [
        "A.sum()"
      ]
    },
    {
      "cell_type": "code",
      "execution_count": null,
      "metadata": {
        "id": "e9eUqHTMtaks",
        "outputId": "054d54b2-4f3a-4eaf-9c92-70e9d548f395"
      },
      "outputs": [
        {
          "data": {
            "text/plain": [
              "5.0"
            ]
          },
          "execution_count": 56,
          "metadata": {},
          "output_type": "execute_result"
        }
      ],
      "source": [
        "A.mean()"
      ]
    },
    {
      "cell_type": "code",
      "execution_count": null,
      "metadata": {
        "id": "eGAjW1X7taks",
        "outputId": "98b9e3d8-353c-4b6f-e9b4-b95cfad13256"
      },
      "outputs": [
        {
          "data": {
            "text/plain": [
              "2.581988897471611"
            ]
          },
          "execution_count": 57,
          "metadata": {},
          "output_type": "execute_result"
        }
      ],
      "source": [
        "A.std()"
      ]
    },
    {
      "cell_type": "code",
      "execution_count": null,
      "metadata": {
        "id": "PPqi8PHLtaks",
        "outputId": "f09e71fd-3893-462b-8bd6-84fe49dfc180"
      },
      "outputs": [
        {
          "data": {
            "text/plain": [
              "array([12, 15, 18])"
            ]
          },
          "execution_count": 58,
          "metadata": {},
          "output_type": "execute_result"
        }
      ],
      "source": [
        "A.sum(axis=0)"
      ]
    },
    {
      "cell_type": "code",
      "execution_count": null,
      "metadata": {
        "id": "M3bRyQxctaks",
        "outputId": "bb83ff3d-1001-4a02-8495-c0b7545e99d9"
      },
      "outputs": [
        {
          "data": {
            "text/plain": [
              "array([ 6, 15, 24])"
            ]
          },
          "execution_count": 59,
          "metadata": {},
          "output_type": "execute_result"
        }
      ],
      "source": [
        "A.sum(axis=1)"
      ]
    },
    {
      "cell_type": "code",
      "execution_count": null,
      "metadata": {
        "scrolled": true,
        "id": "BWl-8FXstaks",
        "outputId": "b31b00a0-5aa6-47e5-e15f-7952d818c366"
      },
      "outputs": [
        {
          "data": {
            "text/plain": [
              "array([4., 5., 6.])"
            ]
          },
          "execution_count": 60,
          "metadata": {},
          "output_type": "execute_result"
        }
      ],
      "source": [
        "A.mean(axis=0)"
      ]
    },
    {
      "cell_type": "code",
      "execution_count": null,
      "metadata": {
        "id": "P1bHWNwPtaks",
        "outputId": "7ad369ca-ae55-43ce-da77-a66f8dc6955c"
      },
      "outputs": [
        {
          "data": {
            "text/plain": [
              "array([2., 5., 8.])"
            ]
          },
          "execution_count": 61,
          "metadata": {},
          "output_type": "execute_result"
        }
      ],
      "source": [
        "A.mean(axis=1)"
      ]
    },
    {
      "cell_type": "code",
      "execution_count": null,
      "metadata": {
        "id": "2oiU8m7Ytaks",
        "outputId": "dccc7556-c36a-49d1-bfe6-28c9ef04ca4a"
      },
      "outputs": [
        {
          "data": {
            "text/plain": [
              "array([2.44948974, 2.44948974, 2.44948974])"
            ]
          },
          "execution_count": 62,
          "metadata": {},
          "output_type": "execute_result"
        }
      ],
      "source": [
        "A.std(axis=0)"
      ]
    },
    {
      "cell_type": "code",
      "execution_count": null,
      "metadata": {
        "scrolled": true,
        "id": "XiNMJDxJtaks",
        "outputId": "8511e5d6-fc0e-4483-cb36-81a0fadb2d25"
      },
      "outputs": [
        {
          "data": {
            "text/plain": [
              "array([0.81649658, 0.81649658, 0.81649658])"
            ]
          },
          "execution_count": 63,
          "metadata": {},
          "output_type": "execute_result"
        }
      ],
      "source": [
        "A.std(axis=1)"
      ]
    },
    {
      "cell_type": "markdown",
      "metadata": {
        "id": "6z0y2CfCtaks"
      },
      "source": [
        "And [many more](https://docs.scipy.org/doc/numpy-1.13.0/reference/arrays.ndarray.html#array-methods)..."
      ]
    },
    {
      "cell_type": "markdown",
      "metadata": {
        "id": "E4ERK-XGtaks"
      },
      "source": [
        "![green-divider](https://user-images.githubusercontent.com/7065401/52071924-c003ad80-2562-11e9-8297-1c6595f8a7ff.png)\n",
        "\n",
        "## Broadcasting and Vectorized operations"
      ]
    },
    {
      "cell_type": "code",
      "execution_count": null,
      "metadata": {
        "id": "txVQdZhktaks"
      },
      "outputs": [],
      "source": [
        "a = np.arange(4)"
      ]
    },
    {
      "cell_type": "code",
      "execution_count": null,
      "metadata": {
        "id": "2czM8JhXtaks",
        "outputId": "c9aea460-3a77-40de-d63f-ce4351d24c78"
      },
      "outputs": [
        {
          "data": {
            "text/plain": [
              "array([0, 1, 2, 3])"
            ]
          },
          "execution_count": 67,
          "metadata": {},
          "output_type": "execute_result"
        }
      ],
      "source": [
        "a"
      ]
    },
    {
      "cell_type": "code",
      "execution_count": null,
      "metadata": {
        "id": "eEDevmNDtaks",
        "outputId": "d4d6e1de-6021-4408-add4-9d8e1ffdfffb"
      },
      "outputs": [
        {
          "data": {
            "text/plain": [
              "array([10, 11, 12, 13])"
            ]
          },
          "execution_count": 68,
          "metadata": {},
          "output_type": "execute_result"
        }
      ],
      "source": [
        "a + 10"
      ]
    },
    {
      "cell_type": "code",
      "execution_count": null,
      "metadata": {
        "id": "SHW57nPAtakt",
        "outputId": "bb17574c-2eb0-4fa1-b583-e9d362677161"
      },
      "outputs": [
        {
          "data": {
            "text/plain": [
              "array([ 0, 10, 20, 30])"
            ]
          },
          "execution_count": 69,
          "metadata": {},
          "output_type": "execute_result"
        }
      ],
      "source": [
        "a * 10"
      ]
    },
    {
      "cell_type": "code",
      "execution_count": null,
      "metadata": {
        "id": "Hd5AIljCtakt",
        "outputId": "ef3553dc-374f-4ab6-c3b5-62ac8e02d158"
      },
      "outputs": [
        {
          "data": {
            "text/plain": [
              "array([0, 1, 2, 3])"
            ]
          },
          "execution_count": 70,
          "metadata": {},
          "output_type": "execute_result"
        }
      ],
      "source": [
        "a"
      ]
    },
    {
      "cell_type": "code",
      "execution_count": null,
      "metadata": {
        "id": "6nyNu7J5takt"
      },
      "outputs": [],
      "source": [
        "a += 100"
      ]
    },
    {
      "cell_type": "code",
      "execution_count": null,
      "metadata": {
        "id": "jKNIAG0Ytakt",
        "outputId": "b6e45ca1-0bd8-4f1e-d7a8-bee744eae8f6"
      },
      "outputs": [
        {
          "data": {
            "text/plain": [
              "array([100, 101, 102, 103])"
            ]
          },
          "execution_count": 73,
          "metadata": {},
          "output_type": "execute_result"
        }
      ],
      "source": [
        "a"
      ]
    },
    {
      "cell_type": "code",
      "execution_count": null,
      "metadata": {
        "id": "vhHn7Bvctakt"
      },
      "outputs": [],
      "source": [
        "l = [0, 1, 2, 3]"
      ]
    },
    {
      "cell_type": "code",
      "execution_count": null,
      "metadata": {
        "id": "rcNXeLzgtakt",
        "outputId": "4b515a7a-aa2f-4a1c-dc00-7c2ab92885ca"
      },
      "outputs": [
        {
          "data": {
            "text/plain": [
              "[0, 10, 20, 30]"
            ]
          },
          "execution_count": 75,
          "metadata": {},
          "output_type": "execute_result"
        }
      ],
      "source": [
        "[i * 10 for i in l]"
      ]
    },
    {
      "cell_type": "code",
      "execution_count": null,
      "metadata": {
        "id": "K-yp9JS_takt"
      },
      "outputs": [],
      "source": [
        "a = np.arange(4)"
      ]
    },
    {
      "cell_type": "code",
      "execution_count": null,
      "metadata": {
        "id": "FJYu5csitaku",
        "outputId": "65b2e9b7-a08f-471e-d9af-3cc4ca62d3d8"
      },
      "outputs": [
        {
          "data": {
            "text/plain": [
              "array([0, 1, 2, 3])"
            ]
          },
          "execution_count": 77,
          "metadata": {},
          "output_type": "execute_result"
        }
      ],
      "source": [
        "a"
      ]
    },
    {
      "cell_type": "code",
      "execution_count": null,
      "metadata": {
        "id": "28vytFPgtaku"
      },
      "outputs": [],
      "source": [
        "b = np.array([10, 10, 10, 10])"
      ]
    },
    {
      "cell_type": "code",
      "execution_count": null,
      "metadata": {
        "id": "tIuQF-IUtaku",
        "outputId": "e9e28be0-6fe7-452c-df9c-a6d74f139cd2"
      },
      "outputs": [
        {
          "data": {
            "text/plain": [
              "array([10, 10, 10, 10])"
            ]
          },
          "execution_count": 79,
          "metadata": {},
          "output_type": "execute_result"
        }
      ],
      "source": [
        "b"
      ]
    },
    {
      "cell_type": "code",
      "execution_count": null,
      "metadata": {
        "id": "XQus9_kjtaku",
        "outputId": "15ce4b89-6795-471c-86cd-238ff602b7fe"
      },
      "outputs": [
        {
          "data": {
            "text/plain": [
              "array([10, 11, 12, 13])"
            ]
          },
          "execution_count": 80,
          "metadata": {},
          "output_type": "execute_result"
        }
      ],
      "source": [
        "a + b"
      ]
    },
    {
      "cell_type": "code",
      "execution_count": null,
      "metadata": {
        "id": "UkLLtU_2taku",
        "outputId": "ef1d0a43-bf09-4070-c1c2-1bd2ab54af24"
      },
      "outputs": [
        {
          "data": {
            "text/plain": [
              "array([ 0, 10, 20, 30])"
            ]
          },
          "execution_count": 81,
          "metadata": {},
          "output_type": "execute_result"
        }
      ],
      "source": [
        "a * b"
      ]
    },
    {
      "cell_type": "markdown",
      "metadata": {
        "id": "UJqMwrEptaku"
      },
      "source": [
        "![green-divider](https://user-images.githubusercontent.com/7065401/52071924-c003ad80-2562-11e9-8297-1c6595f8a7ff.png)\n",
        "\n",
        "## Boolean arrays\n",
        "_(Also called masks)_"
      ]
    },
    {
      "cell_type": "code",
      "execution_count": null,
      "metadata": {
        "id": "SyvrSQP6taku"
      },
      "outputs": [],
      "source": [
        "a = np.arange(4)"
      ]
    },
    {
      "cell_type": "code",
      "execution_count": null,
      "metadata": {
        "id": "tdkdqdIZtaku",
        "outputId": "138d9f53-1212-48bf-eb5e-936dc8448c15"
      },
      "outputs": [
        {
          "data": {
            "text/plain": [
              "array([0, 1, 2, 3])"
            ]
          },
          "execution_count": 83,
          "metadata": {},
          "output_type": "execute_result"
        }
      ],
      "source": [
        "a"
      ]
    },
    {
      "cell_type": "code",
      "execution_count": null,
      "metadata": {
        "id": "_siHaTxMtaku",
        "outputId": "4789d01f-da04-4b51-8b35-4ca94943eb3b"
      },
      "outputs": [
        {
          "data": {
            "text/plain": [
              "(0, 3)"
            ]
          },
          "execution_count": 85,
          "metadata": {},
          "output_type": "execute_result"
        }
      ],
      "source": [
        "a[0], a[-1]"
      ]
    },
    {
      "cell_type": "code",
      "execution_count": null,
      "metadata": {
        "id": "xGdbzxsZtaku",
        "outputId": "38b22e8d-6166-4e6f-933b-2afc71ff69b2"
      },
      "outputs": [
        {
          "data": {
            "text/plain": [
              "array([0, 3])"
            ]
          },
          "execution_count": 84,
          "metadata": {},
          "output_type": "execute_result"
        }
      ],
      "source": [
        "a[[0, -1]]"
      ]
    },
    {
      "cell_type": "code",
      "execution_count": null,
      "metadata": {
        "id": "-G6rfvUBtaku",
        "outputId": "a9abb598-d39b-4a9c-9622-bfd96f9803ed"
      },
      "outputs": [
        {
          "data": {
            "text/plain": [
              "array([0, 3])"
            ]
          },
          "execution_count": 86,
          "metadata": {},
          "output_type": "execute_result"
        }
      ],
      "source": [
        "a[[True, False, False, True]]"
      ]
    },
    {
      "cell_type": "code",
      "execution_count": null,
      "metadata": {
        "id": "fCRulX3Dtaku",
        "outputId": "dca532f5-d9d5-43ee-ff59-21e03c29b357"
      },
      "outputs": [
        {
          "data": {
            "text/plain": [
              "array([0, 1, 2, 3])"
            ]
          },
          "execution_count": 89,
          "metadata": {},
          "output_type": "execute_result"
        }
      ],
      "source": [
        "a"
      ]
    },
    {
      "cell_type": "code",
      "execution_count": null,
      "metadata": {
        "id": "HDO3LH-Ltaku",
        "outputId": "c11775a2-6a34-4764-ced4-969e5fff9b27"
      },
      "outputs": [
        {
          "data": {
            "text/plain": [
              "array([False, False,  True,  True])"
            ]
          },
          "execution_count": 88,
          "metadata": {},
          "output_type": "execute_result"
        }
      ],
      "source": [
        "a >= 2"
      ]
    },
    {
      "cell_type": "code",
      "execution_count": null,
      "metadata": {
        "id": "TiTZRRPetaku",
        "outputId": "8d879819-6779-445d-a8fd-10ed9c2c4ea9"
      },
      "outputs": [
        {
          "data": {
            "text/plain": [
              "array([2, 3])"
            ]
          },
          "execution_count": 90,
          "metadata": {},
          "output_type": "execute_result"
        }
      ],
      "source": [
        "a[a >= 2]"
      ]
    },
    {
      "cell_type": "code",
      "execution_count": null,
      "metadata": {
        "id": "KFDlzOshtaku",
        "outputId": "733bccf4-6d02-475b-b961-40567ad29b53"
      },
      "outputs": [
        {
          "data": {
            "text/plain": [
              "1.5"
            ]
          },
          "execution_count": 91,
          "metadata": {},
          "output_type": "execute_result"
        }
      ],
      "source": [
        "a.mean()"
      ]
    },
    {
      "cell_type": "code",
      "execution_count": null,
      "metadata": {
        "scrolled": true,
        "id": "uOTo9kPetaku",
        "outputId": "0b3a33ed-fdb8-483b-ce66-587c371b28da"
      },
      "outputs": [
        {
          "data": {
            "text/plain": [
              "array([2, 3])"
            ]
          },
          "execution_count": 92,
          "metadata": {},
          "output_type": "execute_result"
        }
      ],
      "source": [
        "a[a > a.mean()]"
      ]
    },
    {
      "cell_type": "code",
      "execution_count": null,
      "metadata": {
        "id": "8AQHbZirtaku",
        "outputId": "cdc621ab-cd87-43d2-b628-d167e93dfa66"
      },
      "outputs": [
        {
          "data": {
            "text/plain": [
              "array([0, 1])"
            ]
          },
          "execution_count": 93,
          "metadata": {},
          "output_type": "execute_result"
        }
      ],
      "source": [
        "a[~(a > a.mean())]"
      ]
    },
    {
      "cell_type": "code",
      "execution_count": null,
      "metadata": {
        "id": "w-hieT3gtaku",
        "outputId": "24f03bf0-057e-4df6-be3a-dad965103598"
      },
      "outputs": [
        {
          "data": {
            "text/plain": [
              "array([0, 1])"
            ]
          },
          "execution_count": 94,
          "metadata": {},
          "output_type": "execute_result"
        }
      ],
      "source": [
        "a[(a == 0) | (a == 1)]"
      ]
    },
    {
      "cell_type": "code",
      "execution_count": null,
      "metadata": {
        "id": "TfjNwdLrtaku",
        "outputId": "9c60ad94-5a84-40bc-bdbb-c2e43d3660a3"
      },
      "outputs": [
        {
          "data": {
            "text/plain": [
              "array([0, 2])"
            ]
          },
          "execution_count": 95,
          "metadata": {},
          "output_type": "execute_result"
        }
      ],
      "source": [
        "a[(a <= 2) & (a % 2 == 0)]"
      ]
    },
    {
      "cell_type": "code",
      "execution_count": null,
      "metadata": {
        "id": "KMUaD5Mytaku"
      },
      "outputs": [],
      "source": [
        "A = np.random.randint(100, size=(3, 3))"
      ]
    },
    {
      "cell_type": "code",
      "execution_count": null,
      "metadata": {
        "id": "jjmC8wCgtaku",
        "outputId": "b6122129-2b2f-4211-e0e4-300f94a80b1a"
      },
      "outputs": [
        {
          "data": {
            "text/plain": [
              "array([[71,  6, 42],\n",
              "       [40, 94, 24],\n",
              "       [ 2, 85, 36]])"
            ]
          },
          "execution_count": 97,
          "metadata": {},
          "output_type": "execute_result"
        }
      ],
      "source": [
        "A"
      ]
    },
    {
      "cell_type": "code",
      "execution_count": null,
      "metadata": {
        "id": "IupnWyQrtaku",
        "outputId": "c8014f1f-b07e-4de9-d22b-6910a3e8d43c"
      },
      "outputs": [
        {
          "data": {
            "text/plain": [
              "array([71, 42, 94,  2, 36])"
            ]
          },
          "execution_count": 98,
          "metadata": {},
          "output_type": "execute_result"
        }
      ],
      "source": [
        "A[np.array([\n",
        "    [True, False, True],\n",
        "    [False, True, False],\n",
        "    [True, False, True]\n",
        "])]"
      ]
    },
    {
      "cell_type": "code",
      "execution_count": null,
      "metadata": {
        "id": "nHARvSHTtaku",
        "outputId": "291dc26c-1a86-4adc-a8d3-f2a1c0eb2db1"
      },
      "outputs": [
        {
          "data": {
            "text/plain": [
              "array([[ True, False,  True],\n",
              "       [ True,  True, False],\n",
              "       [False,  True,  True]])"
            ]
          },
          "execution_count": 99,
          "metadata": {},
          "output_type": "execute_result"
        }
      ],
      "source": [
        "A > 30"
      ]
    },
    {
      "cell_type": "code",
      "execution_count": null,
      "metadata": {
        "id": "22NrYdi2taku",
        "outputId": "f0cee8de-eaca-4200-f989-fd56880865a6"
      },
      "outputs": [
        {
          "data": {
            "text/plain": [
              "array([71, 42, 40, 94, 85, 36])"
            ]
          },
          "execution_count": 100,
          "metadata": {},
          "output_type": "execute_result"
        }
      ],
      "source": [
        "A[A > 30]"
      ]
    },
    {
      "cell_type": "markdown",
      "metadata": {
        "id": "oDdfd-hdtakv"
      },
      "source": [
        "![green-divider](https://user-images.githubusercontent.com/7065401/52071924-c003ad80-2562-11e9-8297-1c6595f8a7ff.png)\n",
        "\n",
        "## Linear Algebra"
      ]
    },
    {
      "cell_type": "code",
      "execution_count": null,
      "metadata": {
        "id": "_dlABzrKtakv"
      },
      "outputs": [],
      "source": [
        "A = np.array([\n",
        "    [1, 2, 3],\n",
        "    [4, 5, 6],\n",
        "    [7, 8, 9]\n",
        "])"
      ]
    },
    {
      "cell_type": "code",
      "execution_count": null,
      "metadata": {
        "id": "uT3wM5lytakv"
      },
      "outputs": [],
      "source": [
        "B = np.array([\n",
        "    [6, 5],\n",
        "    [4, 3],\n",
        "    [2, 1]\n",
        "])"
      ]
    },
    {
      "cell_type": "code",
      "execution_count": null,
      "metadata": {
        "id": "_c0ZFS6ktakv",
        "outputId": "ed93963a-32cc-41d8-8ceb-0af20e65faa5"
      },
      "outputs": [
        {
          "data": {
            "text/plain": [
              "array([[20, 14],\n",
              "       [56, 41],\n",
              "       [92, 68]])"
            ]
          },
          "execution_count": 103,
          "metadata": {},
          "output_type": "execute_result"
        }
      ],
      "source": [
        "A.dot(B)"
      ]
    },
    {
      "cell_type": "code",
      "execution_count": null,
      "metadata": {
        "id": "HUMMTfS4takv",
        "outputId": "7b1b8a72-e90a-4773-cf44-8379869f1cee"
      },
      "outputs": [
        {
          "data": {
            "text/plain": [
              "array([[20, 14],\n",
              "       [56, 41],\n",
              "       [92, 68]])"
            ]
          },
          "execution_count": 104,
          "metadata": {},
          "output_type": "execute_result"
        }
      ],
      "source": [
        "A @ B"
      ]
    },
    {
      "cell_type": "code",
      "execution_count": null,
      "metadata": {
        "id": "Q9cINoQ9takv",
        "outputId": "f0936ffc-63d5-4480-c63f-f384be862ebe"
      },
      "outputs": [
        {
          "data": {
            "text/plain": [
              "array([[6, 4, 2],\n",
              "       [5, 3, 1]])"
            ]
          },
          "execution_count": 105,
          "metadata": {},
          "output_type": "execute_result"
        }
      ],
      "source": [
        "B.T"
      ]
    },
    {
      "cell_type": "code",
      "execution_count": null,
      "metadata": {
        "id": "TbI8eKsutakv",
        "outputId": "da77216d-5a49-4580-c2d3-4c90e59283ad"
      },
      "outputs": [
        {
          "data": {
            "text/plain": [
              "array([[1, 2, 3],\n",
              "       [4, 5, 6],\n",
              "       [7, 8, 9]])"
            ]
          },
          "execution_count": 106,
          "metadata": {},
          "output_type": "execute_result"
        }
      ],
      "source": [
        "A"
      ]
    },
    {
      "cell_type": "code",
      "execution_count": null,
      "metadata": {
        "scrolled": true,
        "id": "G0o6IfYutakv",
        "outputId": "c10533ab-80c2-404e-bbc9-8f592412228a"
      },
      "outputs": [
        {
          "data": {
            "text/plain": [
              "array([[36, 48, 60],\n",
              "       [24, 33, 42]])"
            ]
          },
          "execution_count": 107,
          "metadata": {},
          "output_type": "execute_result"
        }
      ],
      "source": [
        "B.T @ A"
      ]
    },
    {
      "cell_type": "markdown",
      "metadata": {
        "id": "9DpLLGTOtakv"
      },
      "source": [
        "![green-divider](https://user-images.githubusercontent.com/7065401/52071924-c003ad80-2562-11e9-8297-1c6595f8a7ff.png)\n",
        "\n",
        "## Size of objects in Memory"
      ]
    },
    {
      "cell_type": "markdown",
      "metadata": {
        "id": "fjWfrWxhtakv"
      },
      "source": [
        "### Int, floats"
      ]
    },
    {
      "cell_type": "code",
      "execution_count": null,
      "metadata": {
        "id": "bVVFnmGUtakv",
        "outputId": "6b245f9c-4509-423c-9224-a9815239278a"
      },
      "outputs": [
        {
          "data": {
            "text/plain": [
              "28"
            ]
          },
          "execution_count": 108,
          "metadata": {},
          "output_type": "execute_result"
        }
      ],
      "source": [
        "# An integer in Python is > 24bytes\n",
        "sys.getsizeof(1)"
      ]
    },
    {
      "cell_type": "code",
      "execution_count": null,
      "metadata": {
        "scrolled": true,
        "id": "J-5kotpttakv",
        "outputId": "5f1c7a41-4198-4ddb-d959-a5d9253c0517"
      },
      "outputs": [
        {
          "data": {
            "text/plain": [
              "72"
            ]
          },
          "execution_count": 109,
          "metadata": {},
          "output_type": "execute_result"
        }
      ],
      "source": [
        "# Longs are even larger\n",
        "sys.getsizeof(10**100)"
      ]
    },
    {
      "cell_type": "code",
      "execution_count": null,
      "metadata": {
        "scrolled": true,
        "id": "slginudktakv",
        "outputId": "f0dc4792-5f8d-4d0f-b173-1fca7b1659cf"
      },
      "outputs": [
        {
          "data": {
            "text/plain": [
              "8"
            ]
          },
          "execution_count": 110,
          "metadata": {},
          "output_type": "execute_result"
        }
      ],
      "source": [
        "# Numpy size is much smaller\n",
        "np.dtype(int).itemsize"
      ]
    },
    {
      "cell_type": "code",
      "execution_count": null,
      "metadata": {
        "scrolled": true,
        "id": "LjY8l_3ctakv",
        "outputId": "502925ef-1089-4e59-c682-46578716995a"
      },
      "outputs": [
        {
          "data": {
            "text/plain": [
              "1"
            ]
          },
          "execution_count": 112,
          "metadata": {},
          "output_type": "execute_result"
        }
      ],
      "source": [
        "# Numpy size is much smaller\n",
        "np.dtype(np.int8).itemsize"
      ]
    },
    {
      "cell_type": "code",
      "execution_count": null,
      "metadata": {
        "scrolled": true,
        "id": "5xzCviKwtakv",
        "outputId": "2eb3f9a2-0489-4f25-b8cf-cf57f17951a5"
      },
      "outputs": [
        {
          "data": {
            "text/plain": [
              "8"
            ]
          },
          "execution_count": 111,
          "metadata": {},
          "output_type": "execute_result"
        }
      ],
      "source": [
        "np.dtype(float).itemsize"
      ]
    },
    {
      "cell_type": "markdown",
      "metadata": {
        "id": "6mCgPjoVtakv"
      },
      "source": [
        "### Lists are even larger"
      ]
    },
    {
      "cell_type": "code",
      "execution_count": null,
      "metadata": {
        "id": "41HnIeY0takv"
      },
      "outputs": [],
      "source": [
        "# A one-element list\n",
        "sys.getsizeof([1])"
      ]
    },
    {
      "cell_type": "code",
      "execution_count": null,
      "metadata": {
        "scrolled": true,
        "id": "H2opz-aBtakv"
      },
      "outputs": [],
      "source": [
        "# An array of one element in numpy\n",
        "np.array([1]).nbytes"
      ]
    },
    {
      "cell_type": "markdown",
      "metadata": {
        "id": "f4xn6jeutakv"
      },
      "source": [
        "### And performance is also important"
      ]
    },
    {
      "cell_type": "code",
      "execution_count": null,
      "metadata": {
        "id": "1jlt_tqwtakv"
      },
      "outputs": [],
      "source": [
        "l = list(range(100000))"
      ]
    },
    {
      "cell_type": "code",
      "execution_count": null,
      "metadata": {
        "id": "qEA_4pQftakv"
      },
      "outputs": [],
      "source": [
        "a = np.arange(100000)"
      ]
    },
    {
      "cell_type": "code",
      "execution_count": null,
      "metadata": {
        "scrolled": true,
        "id": "AXBEtWfctakv",
        "outputId": "e9cc76c7-51fd-4138-d600-a8f998e73787"
      },
      "outputs": [
        {
          "name": "stdout",
          "output_type": "stream",
          "text": [
            "CPU times: user 1.06 ms, sys: 279 µs, total: 1.34 ms\n",
            "Wall time: 701 µs\n"
          ]
        },
        {
          "data": {
            "text/plain": [
              "333328333350000"
            ]
          },
          "execution_count": 119,
          "metadata": {},
          "output_type": "execute_result"
        }
      ],
      "source": [
        "%time np.sum(a ** 2)"
      ]
    },
    {
      "cell_type": "code",
      "execution_count": null,
      "metadata": {
        "scrolled": true,
        "id": "a8xO8JrZtakv",
        "outputId": "1177bf97-56fa-42c6-d55d-8a2faecb9a3c"
      },
      "outputs": [
        {
          "name": "stdout",
          "output_type": "stream",
          "text": [
            "CPU times: user 36.1 ms, sys: 0 ns, total: 36.1 ms\n",
            "Wall time: 35.5 ms\n"
          ]
        },
        {
          "data": {
            "text/plain": [
              "333328333350000"
            ]
          },
          "execution_count": 120,
          "metadata": {},
          "output_type": "execute_result"
        }
      ],
      "source": [
        "%time sum([x ** 2 for x in l])"
      ]
    },
    {
      "cell_type": "markdown",
      "metadata": {
        "id": "8BxNbsH8takv"
      },
      "source": [
        "![green-divider](https://user-images.githubusercontent.com/7065401/52071924-c003ad80-2562-11e9-8297-1c6595f8a7ff.png)\n",
        "\n",
        "## Useful Numpy functions"
      ]
    },
    {
      "cell_type": "markdown",
      "metadata": {
        "id": "pDsIvr0Wtakv"
      },
      "source": [
        "### `random`"
      ]
    },
    {
      "cell_type": "code",
      "execution_count": null,
      "metadata": {
        "id": "8tQA-JEPtakv"
      },
      "outputs": [],
      "source": [
        "np.random.random(size=2)"
      ]
    },
    {
      "cell_type": "code",
      "execution_count": null,
      "metadata": {
        "id": "WeBRftYvtakw"
      },
      "outputs": [],
      "source": [
        "np.random.normal(size=2)"
      ]
    },
    {
      "cell_type": "code",
      "execution_count": null,
      "metadata": {
        "id": "zaOUwo5rtakw"
      },
      "outputs": [],
      "source": [
        "np.random.rand(2, 4)"
      ]
    },
    {
      "cell_type": "markdown",
      "metadata": {
        "id": "Rdme5KWitakw"
      },
      "source": [
        "---\n",
        "### `arange`"
      ]
    },
    {
      "cell_type": "code",
      "execution_count": null,
      "metadata": {
        "id": "lnRPdg_Ntakw"
      },
      "outputs": [],
      "source": [
        "np.arange(10)"
      ]
    },
    {
      "cell_type": "code",
      "execution_count": null,
      "metadata": {
        "id": "kAxx2Tnatakw"
      },
      "outputs": [],
      "source": [
        "np.arange(5, 10)"
      ]
    },
    {
      "cell_type": "code",
      "execution_count": null,
      "metadata": {
        "id": "-sEpN7GQtakw"
      },
      "outputs": [],
      "source": [
        "np.arange(0, 1, .1)"
      ]
    },
    {
      "cell_type": "markdown",
      "metadata": {
        "id": "7zprUoSetakw"
      },
      "source": [
        "---\n",
        "### `reshape`"
      ]
    },
    {
      "cell_type": "code",
      "execution_count": null,
      "metadata": {
        "id": "DGkK6hgZtakw"
      },
      "outputs": [],
      "source": [
        "np.arange(10).reshape(2, 5)"
      ]
    },
    {
      "cell_type": "code",
      "execution_count": null,
      "metadata": {
        "id": "aSjRIYbQtakw"
      },
      "outputs": [],
      "source": [
        "np.arange(10).reshape(5, 2)"
      ]
    },
    {
      "cell_type": "markdown",
      "metadata": {
        "id": "KyP58nlEtakw"
      },
      "source": [
        "---\n",
        "### `linspace`"
      ]
    },
    {
      "cell_type": "code",
      "execution_count": null,
      "metadata": {
        "id": "W6XkrG-ftakw"
      },
      "outputs": [],
      "source": [
        "np.linspace(0, 1, 5)"
      ]
    },
    {
      "cell_type": "code",
      "execution_count": null,
      "metadata": {
        "id": "yI7B-Hkltakw"
      },
      "outputs": [],
      "source": [
        "np.linspace(0, 1, 20)"
      ]
    },
    {
      "cell_type": "code",
      "execution_count": null,
      "metadata": {
        "scrolled": true,
        "id": "CcJGIaortakw"
      },
      "outputs": [],
      "source": [
        "np.linspace(0, 1, 20, False)"
      ]
    },
    {
      "cell_type": "markdown",
      "metadata": {
        "id": "bHrhEgZotakw"
      },
      "source": [
        "---\n",
        "### `zeros`, `ones`, `empty`"
      ]
    },
    {
      "cell_type": "code",
      "execution_count": null,
      "metadata": {
        "id": "BU0zg2Xvtakw"
      },
      "outputs": [],
      "source": [
        "np.zeros(5)"
      ]
    },
    {
      "cell_type": "code",
      "execution_count": null,
      "metadata": {
        "scrolled": true,
        "id": "DfpKgAx4takw"
      },
      "outputs": [],
      "source": [
        "np.zeros((3, 3))"
      ]
    },
    {
      "cell_type": "code",
      "execution_count": null,
      "metadata": {
        "scrolled": true,
        "id": "uC45fCINtakw"
      },
      "outputs": [],
      "source": [
        "np.zeros((3, 3), dtype=np.int)"
      ]
    },
    {
      "cell_type": "code",
      "execution_count": null,
      "metadata": {
        "id": "dhmOq0hitakw"
      },
      "outputs": [],
      "source": [
        "np.ones(5)"
      ]
    },
    {
      "cell_type": "code",
      "execution_count": null,
      "metadata": {
        "id": "LSp_zuk9takw"
      },
      "outputs": [],
      "source": [
        "np.ones((3, 3))"
      ]
    },
    {
      "cell_type": "code",
      "execution_count": null,
      "metadata": {
        "id": "Gk751wKstakw"
      },
      "outputs": [],
      "source": [
        "np.empty(5)"
      ]
    },
    {
      "cell_type": "code",
      "execution_count": null,
      "metadata": {
        "scrolled": true,
        "id": "-gaYBpEEtakw"
      },
      "outputs": [],
      "source": [
        "np.empty((2, 2))"
      ]
    },
    {
      "cell_type": "markdown",
      "metadata": {
        "id": "uGWKCdfntakw"
      },
      "source": [
        "---\n",
        "### `identity` and `eye`"
      ]
    },
    {
      "cell_type": "code",
      "execution_count": null,
      "metadata": {
        "id": "ejocOBR5takw"
      },
      "outputs": [],
      "source": [
        "np.identity(3)"
      ]
    },
    {
      "cell_type": "code",
      "execution_count": null,
      "metadata": {
        "id": "gFz3873Jtakw"
      },
      "outputs": [],
      "source": [
        "np.eye(3, 3)"
      ]
    },
    {
      "cell_type": "code",
      "execution_count": null,
      "metadata": {
        "id": "degs7bzStakw"
      },
      "outputs": [],
      "source": [
        "np.eye(8, 4)"
      ]
    },
    {
      "cell_type": "code",
      "execution_count": null,
      "metadata": {
        "scrolled": true,
        "id": "hAFKHxmVtakw"
      },
      "outputs": [],
      "source": [
        "np.eye(8, 4, k=1)"
      ]
    },
    {
      "cell_type": "code",
      "execution_count": null,
      "metadata": {
        "id": "Kj6FIKRmtakw"
      },
      "outputs": [],
      "source": [
        "np.eye(8, 4, k=-3)"
      ]
    },
    {
      "cell_type": "code",
      "execution_count": null,
      "metadata": {
        "scrolled": true,
        "id": "3WWY8D_xtakw"
      },
      "outputs": [],
      "source": [
        "\"Hello World\"[6]"
      ]
    },
    {
      "cell_type": "markdown",
      "metadata": {
        "id": "1az7WjAXtakw"
      },
      "source": [
        "![purple-divider](https://user-images.githubusercontent.com/7065401/52071927-c1cd7100-2562-11e9-908a-dde91ba14e59.png)"
      ]
    }
  ],
  "metadata": {
    "kernelspec": {
      "display_name": "Python 3",
      "language": "python",
      "name": "python3"
    },
    "language_info": {
      "codemirror_mode": {
        "name": "ipython",
        "version": 3
      },
      "file_extension": ".py",
      "mimetype": "text/x-python",
      "name": "python",
      "nbconvert_exporter": "python",
      "pygments_lexer": "ipython3",
      "version": "3.8.1"
    },
    "colab": {
      "provenance": []
    }
  },
  "nbformat": 4,
  "nbformat_minor": 0
}